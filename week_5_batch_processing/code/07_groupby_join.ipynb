{
 "cells": [
  {
   "cell_type": "code",
   "execution_count": 1,
   "id": "4341e0e6",
   "metadata": {},
   "outputs": [
    {
     "name": "stderr",
     "output_type": "stream",
     "text": [
      "Setting default log level to \"WARN\".\n",
      "To adjust logging level use sc.setLogLevel(newLevel). For SparkR, use setLogLevel(newLevel).\n"
     ]
    },
    {
     "name": "stdout",
     "output_type": "stream",
     "text": [
      "23/03/18 18:45:44 WARN NativeCodeLoader: Unable to load native-hadoop library for your platform... using builtin-java classes where applicable\n"
     ]
    }
   ],
   "source": [
    "import pyspark\n",
    "from pyspark.sql import SparkSession\n",
    "\n",
    "spark = SparkSession.builder \\\n",
    "    .master(\"local[*]\") \\\n",
    "    .appName('test') \\\n",
    "    .getOrCreate()"
   ]
  },
  {
   "cell_type": "code",
   "execution_count": 2,
   "id": "cd304aec",
   "metadata": {},
   "outputs": [
    {
     "name": "stderr",
     "output_type": "stream",
     "text": [
      "                                                                                \r"
     ]
    }
   ],
   "source": [
    "df_green = spark.read.parquet('data/pq/green/*/*')"
   ]
  },
  {
   "cell_type": "code",
   "execution_count": 4,
   "id": "243991f3",
   "metadata": {},
   "outputs": [],
   "source": [
    "df_green.registerTempTable('green')"
   ]
  },
  {
   "cell_type": "code",
   "execution_count": 5,
   "id": "e43764a7",
   "metadata": {},
   "outputs": [],
   "source": [
    "df_green_revenue = spark.sql(\"\"\"\n",
    "SELECT \n",
    "    date_trunc('hour', lpep_pickup_datetime) AS hour, \n",
    "    PULocationID AS zone,\n",
    "\n",
    "    SUM(total_amount) AS amount,\n",
    "    COUNT(1) AS number_records\n",
    "FROM\n",
    "    green\n",
    "WHERE\n",
    "    lpep_pickup_datetime >= '2020-01-01 00:00:00'\n",
    "GROUP BY\n",
    "    1, 2\n",
    "\"\"\")"
   ]
  },
  {
   "cell_type": "code",
   "execution_count": 6,
   "id": "3e00310e",
   "metadata": {},
   "outputs": [
    {
     "name": "stderr",
     "output_type": "stream",
     "text": [
      "                                                                                \r"
     ]
    }
   ],
   "source": [
    "df_green_revenue \\\n",
    "    .repartition(20) \\\n",
    "    .write.parquet('data/report/revenue/green', mode='overwrite')"
   ]
  },
  {
   "cell_type": "code",
   "execution_count": 9,
   "id": "85942aab",
   "metadata": {},
   "outputs": [
    {
     "name": "stderr",
     "output_type": "stream",
     "text": [
      "[Stage 8:============================================>              (3 + 1) / 4]\r"
     ]
    },
    {
     "name": "stdout",
     "output_type": "stream",
     "text": [
      "+-------------------+----+------------------+--------------+\n",
      "|               hour|zone|            amount|number_records|\n",
      "+-------------------+----+------------------+--------------+\n",
      "|2020-01-28 19:00:00| 134|193.61000000000007|            17|\n",
      "|2020-01-22 19:00:00|  65| 657.0300000000001|            41|\n",
      "|2020-01-27 08:00:00|  17|             85.56|             4|\n",
      "|2020-01-02 09:00:00|  66|229.39999999999998|            12|\n",
      "|2020-01-02 12:00:00|  89|310.28000000000003|            14|\n",
      "|2020-01-07 12:00:00|  66|             179.5|             9|\n",
      "|2020-01-03 08:00:00| 223|165.90000000000003|             9|\n",
      "|2020-01-17 10:00:00|  41| 638.2699999999999|            49|\n",
      "|2020-01-02 11:00:00|  26|             198.6|             7|\n",
      "|2020-01-12 20:00:00| 247|36.900000000000006|             3|\n",
      "|2020-01-12 15:00:00|  10|             75.92|             1|\n",
      "|2020-01-24 04:00:00| 129|148.89000000000001|            13|\n",
      "|2020-01-04 20:00:00|  25| 369.5700000000001|            23|\n",
      "|2020-01-22 10:00:00|  74|1179.0599999999988|            83|\n",
      "|2020-01-13 18:00:00|  92|207.02000000000004|            11|\n",
      "|2020-01-19 11:00:00| 218|            181.16|             5|\n",
      "|2020-01-26 12:00:00|  35|257.03000000000003|             8|\n",
      "|2020-01-30 06:00:00|  75|            282.63|            19|\n",
      "|2020-01-04 22:00:00|  83|            298.16|            15|\n",
      "|2020-01-06 21:00:00| 129|288.02000000000004|            14|\n",
      "+-------------------+----+------------------+--------------+\n",
      "only showing top 20 rows\n",
      "\n"
     ]
    },
    {
     "name": "stderr",
     "output_type": "stream",
     "text": [
      "\r",
      "                                                                                \r"
     ]
    }
   ],
   "source": [
    "df_green_revenue.show()"
   ]
  },
  {
   "cell_type": "code",
   "execution_count": 10,
   "id": "07ebb68c",
   "metadata": {},
   "outputs": [
    {
     "name": "stderr",
     "output_type": "stream",
     "text": [
      "/home/fn/spark/spark-3.3.2-bin-hadoop3/python/pyspark/sql/dataframe.py:229: FutureWarning: Deprecated in 2.0, use createOrReplaceTempView instead.\n",
      "  warnings.warn(\"Deprecated in 2.0, use createOrReplaceTempView instead.\", FutureWarning)\n"
     ]
    }
   ],
   "source": [
    "df_yellow = spark.read.parquet('data/pq/yellow/*/*')\n",
    "df_yellow.registerTempTable('yellow')"
   ]
  },
  {
   "cell_type": "code",
   "execution_count": 11,
   "id": "9d5be29d",
   "metadata": {},
   "outputs": [],
   "source": [
    "df_yellow_revenue = spark.sql(\"\"\"\n",
    "SELECT \n",
    "    date_trunc('hour', tpep_pickup_datetime) AS hour, \n",
    "    PULocationID AS zone,\n",
    "\n",
    "    SUM(total_amount) AS amount,\n",
    "    COUNT(1) AS number_records\n",
    "FROM\n",
    "    yellow\n",
    "WHERE\n",
    "    tpep_pickup_datetime >= '2020-01-01 00:00:00'\n",
    "GROUP BY\n",
    "    1, 2\n",
    "\"\"\")"
   ]
  },
  {
   "cell_type": "code",
   "execution_count": 12,
   "id": "8bd9264e",
   "metadata": {},
   "outputs": [
    {
     "name": "stderr",
     "output_type": "stream",
     "text": [
      "                                                                                \r"
     ]
    }
   ],
   "source": [
    "df_yellow_revenue \\\n",
    "    .repartition(20) \\\n",
    "    .write.parquet('data/report/revenue/yellow', mode='overwrite')"
   ]
  },
  {
   "cell_type": "code",
   "execution_count": 13,
   "id": "fd5d74d7",
   "metadata": {},
   "outputs": [],
   "source": [
    "df_green_revenue = spark.read.parquet('data/report/revenue/green')\n",
    "df_yellow_revenue = spark.read.parquet('data/report/revenue/yellow')"
   ]
  },
  {
   "cell_type": "code",
   "execution_count": 14,
   "id": "35015ee6",
   "metadata": {},
   "outputs": [],
   "source": [
    "df_green_revenue_tmp = df_green_revenue \\\n",
    "    .withColumnRenamed('amount', 'green_amount') \\\n",
    "    .withColumnRenamed('number_records', 'green_number_records')\n",
    "\n",
    "df_yellow_revenue_tmp = df_yellow_revenue \\\n",
    "    .withColumnRenamed('amount', 'yellow_amount') \\\n",
    "    .withColumnRenamed('number_records', 'yellow_number_records')"
   ]
  },
  {
   "cell_type": "code",
   "execution_count": 15,
   "id": "ec9f34ea",
   "metadata": {},
   "outputs": [],
   "source": [
    "df_join = df_green_revenue_tmp.join(df_yellow_revenue_tmp, on=['hour', 'zone'], how='outer')"
   ]
  },
  {
   "cell_type": "code",
   "execution_count": 16,
   "id": "10238be7",
   "metadata": {},
   "outputs": [
    {
     "name": "stderr",
     "output_type": "stream",
     "text": [
      "                                                                                \r"
     ]
    }
   ],
   "source": [
    "df_join.write.parquet('data/report/revenue/total', mode='overwrite')"
   ]
  },
  {
   "cell_type": "code",
   "execution_count": 17,
   "id": "c3af7169",
   "metadata": {},
   "outputs": [],
   "source": [
    "df_join = spark.read.parquet('data/report/revenue/total')"
   ]
  },
  {
   "cell_type": "code",
   "execution_count": 18,
   "id": "bc2a6680",
   "metadata": {},
   "outputs": [
    {
     "data": {
      "text/plain": [
       "DataFrame[hour: timestamp, zone: int, green_amount: double, green_number_records: bigint, yellow_amount: double, yellow_number_records: bigint]"
      ]
     },
     "execution_count": 18,
     "metadata": {},
     "output_type": "execute_result"
    }
   ],
   "source": [
    "df_join"
   ]
  },
  {
   "cell_type": "code",
   "execution_count": 19,
   "id": "abb46398",
   "metadata": {},
   "outputs": [],
   "source": [
    "df_zones = spark.read.parquet('zones/')"
   ]
  },
  {
   "cell_type": "code",
   "execution_count": 20,
   "id": "b3cf98a5",
   "metadata": {},
   "outputs": [],
   "source": [
    "df_result = df_join.join(df_zones, df_join.zone == df_zones.LocationID)"
   ]
  },
  {
   "cell_type": "code",
   "execution_count": 21,
   "id": "5e0614ba",
   "metadata": {},
   "outputs": [
    {
     "name": "stderr",
     "output_type": "stream",
     "text": [
      "                                                                                \r"
     ]
    }
   ],
   "source": [
    "df_result.drop('LocationID', 'zone').write.parquet('tmp/revenue-zones')"
   ]
  },
  {
   "cell_type": "code",
   "execution_count": 23,
   "id": "9f5ca913",
   "metadata": {},
   "outputs": [
    {
     "name": "stdout",
     "output_type": "stream",
     "text": [
      "-RECORD 0-------------------------------------\n",
      " hour                  | 2020-01-01 00:00:00  \n",
      " zone                  | 14                   \n",
      " green_amount          | null                 \n",
      " green_number_records  | null                 \n",
      " yellow_amount         | 8.8                  \n",
      " yellow_number_records | 1                    \n",
      " LocationID            | 14                   \n",
      " Borough               | Brooklyn             \n",
      " Zone                  | Bay Ridge            \n",
      " service_zone          | Boro Zone            \n",
      "-RECORD 1-------------------------------------\n",
      " hour                  | 2020-01-01 00:00:00  \n",
      " zone                  | 15                   \n",
      " green_amount          | null                 \n",
      " green_number_records  | null                 \n",
      " yellow_amount         | 34.09                \n",
      " yellow_number_records | 1                    \n",
      " LocationID            | 15                   \n",
      " Borough               | Queens               \n",
      " Zone                  | Bay Terrace/Fort ... \n",
      " service_zone          | Boro Zone            \n",
      "-RECORD 2-------------------------------------\n",
      " hour                  | 2020-01-01 00:00:00  \n",
      " zone                  | 17                   \n",
      " green_amount          | 195.03000000000003   \n",
      " green_number_records  | 9                    \n",
      " yellow_amount         | 220.20999999999998   \n",
      " yellow_number_records | 8                    \n",
      " LocationID            | 17                   \n",
      " Borough               | Brooklyn             \n",
      " Zone                  | Bedford              \n",
      " service_zone          | Boro Zone            \n",
      "-RECORD 3-------------------------------------\n",
      " hour                  | 2020-01-01 00:00:00  \n",
      " zone                  | 25                   \n",
      " green_amount          | 531.0000000000002    \n",
      " green_number_records  | 26                   \n",
      " yellow_amount         | 324.35               \n",
      " yellow_number_records | 16                   \n",
      " LocationID            | 25                   \n",
      " Borough               | Brooklyn             \n",
      " Zone                  | Boerum Hill          \n",
      " service_zone          | Boro Zone            \n",
      "-RECORD 4-------------------------------------\n",
      " hour                  | 2020-01-01 00:00:00  \n",
      " zone                  | 32                   \n",
      " green_amount          | 68.94999999999999    \n",
      " green_number_records  | 2                    \n",
      " yellow_amount         | 18.0                 \n",
      " yellow_number_records | 1                    \n",
      " LocationID            | 32                   \n",
      " Borough               | Bronx                \n",
      " Zone                  | Bronxdale            \n",
      " service_zone          | Boro Zone            \n",
      "-RECORD 5-------------------------------------\n",
      " hour                  | 2020-01-01 00:00:00  \n",
      " zone                  | 43                   \n",
      " green_amount          | 107.52               \n",
      " green_number_records  | 6                    \n",
      " yellow_amount         | 6539.510000000012    \n",
      " yellow_number_records | 390                  \n",
      " LocationID            | 43                   \n",
      " Borough               | Manhattan            \n",
      " Zone                  | Central Park         \n",
      " service_zone          | Yellow Zone          \n",
      "-RECORD 6-------------------------------------\n",
      " hour                  | 2020-01-01 00:00:00  \n",
      " zone                  | 49                   \n",
      " green_amount          | 266.76000000000005   \n",
      " green_number_records  | 14                   \n",
      " yellow_amount         | 185.64999999999998   \n",
      " yellow_number_records | 10                   \n",
      " LocationID            | 49                   \n",
      " Borough               | Brooklyn             \n",
      " Zone                  | Clinton Hill         \n",
      " service_zone          | Boro Zone            \n",
      "-RECORD 7-------------------------------------\n",
      " hour                  | 2020-01-01 00:00:00  \n",
      " zone                  | 59                   \n",
      " green_amount          | 50.9                 \n",
      " green_number_records  | 3                    \n",
      " yellow_amount         | null                 \n",
      " yellow_number_records | null                 \n",
      " LocationID            | 59                   \n",
      " Borough               | Bronx                \n",
      " Zone                  | Crotona Park         \n",
      " service_zone          | Boro Zone            \n",
      "-RECORD 8-------------------------------------\n",
      " hour                  | 2020-01-01 00:00:00  \n",
      " zone                  | 69                   \n",
      " green_amount          | 11.8                 \n",
      " green_number_records  | 1                    \n",
      " yellow_amount         | 106.52               \n",
      " yellow_number_records | 4                    \n",
      " LocationID            | 69                   \n",
      " Borough               | Bronx                \n",
      " Zone                  | East Concourse/Co... \n",
      " service_zone          | Boro Zone            \n",
      "-RECORD 9-------------------------------------\n",
      " hour                  | 2020-01-01 00:00:00  \n",
      " zone                  | 71                   \n",
      " green_amount          | 23.8                 \n",
      " green_number_records  | 1                    \n",
      " yellow_amount         | null                 \n",
      " yellow_number_records | null                 \n",
      " LocationID            | 71                   \n",
      " Borough               | Brooklyn             \n",
      " Zone                  | East Flatbush/Far... \n",
      " service_zone          | Boro Zone            \n",
      "-RECORD 10------------------------------------\n",
      " hour                  | 2020-01-01 00:00:00  \n",
      " zone                  | 72                   \n",
      " green_amount          | 67.53                \n",
      " green_number_records  | 2                    \n",
      " yellow_amount         | null                 \n",
      " yellow_number_records | null                 \n",
      " LocationID            | 72                   \n",
      " Borough               | Brooklyn             \n",
      " Zone                  | East Flatbush/Rem... \n",
      " service_zone          | Boro Zone            \n",
      "-RECORD 11------------------------------------\n",
      " hour                  | 2020-01-01 00:00:00  \n",
      " zone                  | 75                   \n",
      " green_amount          | 278.14000000000004   \n",
      " green_number_records  | 26                   \n",
      " yellow_amount         | 958.3500000000004    \n",
      " yellow_number_records | 69                   \n",
      " LocationID            | 75                   \n",
      " Borough               | Manhattan            \n",
      " Zone                  | East Harlem South    \n",
      " service_zone          | Boro Zone            \n",
      "-RECORD 12------------------------------------\n",
      " hour                  | 2020-01-01 00:00:00  \n",
      " zone                  | 78                   \n",
      " green_amount          | 34.46                \n",
      " green_number_records  | 2                    \n",
      " yellow_amount         | null                 \n",
      " yellow_number_records | null                 \n",
      " LocationID            | 78                   \n",
      " Borough               | Bronx                \n",
      " Zone                  | East Tremont         \n",
      " service_zone          | Boro Zone            \n",
      "-RECORD 13------------------------------------\n",
      " hour                  | 2020-01-01 00:00:00  \n",
      " zone                  | 82                   \n",
      " green_amount          | 305.1200000000001    \n",
      " green_number_records  | 28                   \n",
      " yellow_amount         | 29.8                 \n",
      " yellow_number_records | 1                    \n",
      " LocationID            | 82                   \n",
      " Borough               | Queens               \n",
      " Zone                  | Elmhurst             \n",
      " service_zone          | Boro Zone            \n",
      "-RECORD 14------------------------------------\n",
      " hour                  | 2020-01-01 00:00:00  \n",
      " zone                  | 85                   \n",
      " green_amount          | 64.76                \n",
      " green_number_records  | 4                    \n",
      " yellow_amount         | 102.56               \n",
      " yellow_number_records | 3                    \n",
      " LocationID            | 85                   \n",
      " Borough               | Brooklyn             \n",
      " Zone                  | Erasmus              \n",
      " service_zone          | Boro Zone            \n",
      "-RECORD 15------------------------------------\n",
      " hour                  | 2020-01-01 00:00:00  \n",
      " zone                  | 87                   \n",
      " green_amount          | null                 \n",
      " green_number_records  | null                 \n",
      " yellow_amount         | 2456.6699999999987   \n",
      " yellow_number_records | 112                  \n",
      " LocationID            | 87                   \n",
      " Borough               | Manhattan            \n",
      " Zone                  | Financial Distric... \n",
      " service_zone          | Yellow Zone          \n",
      "-RECORD 16------------------------------------\n",
      " hour                  | 2020-01-01 00:00:00  \n",
      " zone                  | 93                   \n",
      " green_amount          | null                 \n",
      " green_number_records  | null                 \n",
      " yellow_amount         | 210.28000000000003   \n",
      " yellow_number_records | 3                    \n",
      " LocationID            | 93                   \n",
      " Borough               | Queens               \n",
      " Zone                  | Flushing Meadows-... \n",
      " service_zone          | Boro Zone            \n",
      "-RECORD 17------------------------------------\n",
      " hour                  | 2020-01-01 00:00:00  \n",
      " zone                  | 107                  \n",
      " green_amount          | null                 \n",
      " green_number_records  | null                 \n",
      " yellow_amount         | 6441.030000000006    \n",
      " yellow_number_records | 380                  \n",
      " LocationID            | 107                  \n",
      " Borough               | Manhattan            \n",
      " Zone                  | Gramercy             \n",
      " service_zone          | Yellow Zone          \n",
      "-RECORD 18------------------------------------\n",
      " hour                  | 2020-01-01 00:00:00  \n",
      " zone                  | 113                  \n",
      " green_amount          | null                 \n",
      " green_number_records  | null                 \n",
      " yellow_amount         | 3984.319999999998    \n",
      " yellow_number_records | 220                  \n",
      " LocationID            | 113                  \n",
      " Borough               | Manhattan            \n",
      " Zone                  | Greenwich Village... \n",
      " service_zone          | Yellow Zone          \n",
      "-RECORD 19------------------------------------\n",
      " hour                  | 2020-01-01 00:00:00  \n",
      " zone                  | 116                  \n",
      " green_amount          | 328.76               \n",
      " green_number_records  | 18                   \n",
      " yellow_amount         | 561.5100000000001    \n",
      " yellow_number_records | 34                   \n",
      " LocationID            | 116                  \n",
      " Borough               | Manhattan            \n",
      " Zone                  | Hamilton Heights     \n",
      " service_zone          | Boro Zone            \n",
      "only showing top 20 rows\n",
      "\n"
     ]
    }
   ],
   "source": [
    "df_result.show()"
   ]
  }
 ],
 "metadata": {
  "kernelspec": {
   "display_name": "Python 3 (ipykernel)",
   "language": "python",
   "name": "python3"
  },
  "language_info": {
   "codemirror_mode": {
    "name": "ipython",
    "version": 3
   },
   "file_extension": ".py",
   "mimetype": "text/x-python",
   "name": "python",
   "nbconvert_exporter": "python",
   "pygments_lexer": "ipython3",
   "version": "3.9.16"
  }
 },
 "nbformat": 4,
 "nbformat_minor": 5
}
